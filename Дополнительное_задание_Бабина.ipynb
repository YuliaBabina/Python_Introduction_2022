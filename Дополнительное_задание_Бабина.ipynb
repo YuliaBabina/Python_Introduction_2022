{
 "cells": [
  {
   "cell_type": "markdown",
   "id": "ed181a25",
   "metadata": {},
   "source": [
    "[заданиe]('https://vk.com/doc238560_648023264?hash=3qn5bGjbTUuZxNHbzU0FziSdq8RS8yUahuUW3a33lOT&dl=OoPyymvfY6X7gHWh1EMqFD9gmV3hzSvvXYYCSlXjfDc"
   ]
  },
  {
   "cell_type": "markdown",
   "id": "e6e10fa7",
   "metadata": {},
   "source": [
    "# Задание 1"
   ]
  },
  {
   "cell_type": "code",
   "execution_count": 33,
   "id": "c463a2eb",
   "metadata": {},
   "outputs": [
    {
     "name": "stdout",
     "output_type": "stream",
     "text": [
      "1 2 3 4 5\n",
      "1 3 5\n"
     ]
    }
   ],
   "source": [
    "print(*list(map(int,input().split()))[::2])"
   ]
  },
  {
   "cell_type": "markdown",
   "id": "61ca27c5",
   "metadata": {},
   "source": [
    "# Задание 2"
   ]
  },
  {
   "cell_type": "code",
   "execution_count": 36,
   "id": "364d907b",
   "metadata": {},
   "outputs": [
    {
     "name": "stdout",
     "output_type": "stream",
     "text": [
      "1 2 3 2 1\n",
      "3 2\n"
     ]
    }
   ],
   "source": [
    "lst=list(map(int, input().split()))\n",
    "print(max(lst), lst.index(max(lst)))"
   ]
  },
  {
   "cell_type": "markdown",
   "id": "40682592",
   "metadata": {},
   "source": [
    "# Задание 3"
   ]
  },
  {
   "cell_type": "code",
   "execution_count": 14,
   "id": "0208284b",
   "metadata": {},
   "outputs": [
    {
     "name": "stdout",
     "output_type": "stream",
     "text": [
      "1 2 3 4 5\n",
      "5 4 3 2 1\n"
     ]
    }
   ],
   "source": [
    "print(*list(map(int,input().split()))[::-1])"
   ]
  },
  {
   "cell_type": "markdown",
   "id": "2e1351ac",
   "metadata": {},
   "source": [
    "# Задание 4"
   ]
  },
  {
   "cell_type": "code",
   "execution_count": 37,
   "id": "2f2422b7",
   "metadata": {},
   "outputs": [
    {
     "name": "stdout",
     "output_type": "stream",
     "text": [
      "1 2 3 4 5\n",
      "2 1 4 3 5\n"
     ]
    }
   ],
   "source": [
    "lst=list(map(int,input().split()))\n",
    "\n",
    "lst[:-1:2], lst[1::2] = lst[1::2], lst[:-1:2]\n",
    "\n",
    "print(*lst)"
   ]
  },
  {
   "cell_type": "markdown",
   "id": "9ff8e5cc",
   "metadata": {},
   "source": [
    "# Задание 5"
   ]
  },
  {
   "cell_type": "code",
   "execution_count": 26,
   "id": "4409b086",
   "metadata": {},
   "outputs": [
    {
     "name": "stdout",
     "output_type": "stream",
     "text": [
      "1 2 3 4 5\n",
      "5 1 2 3 4\n"
     ]
    }
   ],
   "source": [
    "lst=list(map(int, input().split()))\n",
    "print(*([(lst[-1])]+lst[:len(lst)-1:]))"
   ]
  },
  {
   "cell_type": "markdown",
   "id": "01b2f459",
   "metadata": {},
   "source": [
    "# Задание 6"
   ]
  },
  {
   "cell_type": "code",
   "execution_count": 31,
   "id": "fe25bf21",
   "metadata": {},
   "outputs": [
    {
     "name": "stdout",
     "output_type": "stream",
     "text": [
      "7 6 5 4 3 2 1\n",
      "2\n",
      "7 6 4 3 2 1\n"
     ]
    }
   ],
   "source": [
    "lst=list(map(int, input().split()))\n",
    "indx=int(input())\n",
    "print(*(lst[:indx:]+lst[indx+1::]))"
   ]
  },
  {
   "cell_type": "markdown",
   "id": "d3a3aca4",
   "metadata": {},
   "source": [
    "# Задание 7"
   ]
  },
  {
   "cell_type": "code",
   "execution_count": 2,
   "id": "5b7ef3cb",
   "metadata": {},
   "outputs": [
    {
     "name": "stdout",
     "output_type": "stream",
     "text": [
      "7 6 5 4 3 2 1\n",
      "2 0\n",
      "7 6 0 5 4 3 2 1\n"
     ]
    }
   ],
   "source": [
    "lst=list(map(int, input().split()))\n",
    "n, elem = map(int, input().split())\n",
    "print(*(lst[:n:]+[elem]+lst[n::]))"
   ]
  },
  {
   "cell_type": "markdown",
   "id": "b7fbe060",
   "metadata": {},
   "source": [
    "# Задание 8"
   ]
  },
  {
   "cell_type": "code",
   "execution_count": 35,
   "id": "a0dcf2aa",
   "metadata": {},
   "outputs": [
    {
     "name": "stdout",
     "output_type": "stream",
     "text": [
      "5 3 7 4 6\n",
      "3\n",
      "7 4 6 5 3\n"
     ]
    }
   ],
   "source": [
    "lst=list(map(int, input().split()))\n",
    "shift=int(input())\n",
    "print(*(lst[shift-1:]+lst[:shift-1]))"
   ]
  }
 ],
 "metadata": {
  "kernelspec": {
   "display_name": "Python 3 (ipykernel)",
   "language": "python",
   "name": "python3"
  },
  "language_info": {
   "codemirror_mode": {
    "name": "ipython",
    "version": 3
   },
   "file_extension": ".py",
   "mimetype": "text/x-python",
   "name": "python",
   "nbconvert_exporter": "python",
   "pygments_lexer": "ipython3",
   "version": "3.8.10"
  }
 },
 "nbformat": 4,
 "nbformat_minor": 5
}
